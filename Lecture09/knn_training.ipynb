{
 "cells": [
  {
   "cell_type": "markdown",
   "metadata": {},
   "source": [
    "## やろうぜ💪"
   ]
  },
  {
   "cell_type": "code",
   "execution_count": null,
   "metadata": {},
   "outputs": [],
   "source": [
    "## ライブラリを読み込む\n",
    "\n",
    "#みんな大好きnp\n",
    "import numpy as np\n",
    "\n",
    "#パイソンで　グラフを描ける　ライブラリ\n",
    "import matplotlib.pyplot as plt\n",
    "\n",
    "#ナニコレ Jupyter Notebookで必要らしい (インライン表示できるよ)\n",
    "%matplotlib inline \n",
    "\n",
    "#色付きグラフのリストを作れる\n",
    "from matplotlib.colors import ListedColormap\n",
    "\n",
    "#Sklearn for all, all for sklearn.\n",
    "from sklearn import neighbors, datasets, metrics\n",
    "\n",
    "#irisのデータセット使うよ、がくの長さ、幅、花びらの長さ、幅の4次元、サンプル数150のデータです。\n",
    "iris = datasets.load_iris()\n",
    "\n",
    "#2次元で可視化したいから最初の2次元の特徴量だけを抜くよ、許せ\n",
    "iris_X = iris.data[:, :2] #特徴行列\n",
    "iris_y = iris.target #目標変数の正解ラベル, 0, 1, 2の3種類"
   ]
  },
  {
   "cell_type": "code",
   "execution_count": null,
   "metadata": {},
   "outputs": [],
   "source": [
    "#乱数のシード設定してるだけ\n",
    "np.random.seed(0)\n",
    "\n",
    "#irisの特徴行列、150サンプルをシャッフルする\n",
    "indices = np.random.permutation(len(iris_X))\n",
    "\n",
    "# 140個のデータセットを105個の教師データと35個のテストデータに分ける\n",
    "iris_X_train = iris_X[indices[:-35]]\n",
    "iris_y_train = iris_y[indices[:-35]]\n",
    "iris_X_test = iris_X[indices[-35:]]\n",
    "iris_y_test = iris_y[indices[-35:]]"
   ]
  },
  {
   "cell_type": "code",
   "execution_count": null,
   "metadata": {},
   "outputs": [],
   "source": [
    "#グラフの線の色を指定してカラーマップのリストを生成\n",
    "cmap_light = ListedColormap(['#FFAAAA', '#AAFFAA', '#AAAAFF']) #塗る色の指定\n",
    "cmap_bold = ListedColormap(['#FF0000', '#00FF00', '#0000FF']) #プロット点の指定"
   ]
  },
  {
   "cell_type": "code",
   "execution_count": null,
   "metadata": {},
   "outputs": [],
   "source": [
    " # メッシュサイズ\n",
    "h = 0.1\n",
    "\n",
    "# kの数\n",
    "k_list = [1, 5, 10, 30]\n",
    "\n",
    "# 重みの種類\n",
    "weights_list =['uniform', 'distance']"
   ]
  },
  {
   "cell_type": "code",
   "execution_count": null,
   "metadata": {
    "scrolled": false
   },
   "outputs": [],
   "source": [
    "#figureの縦横の大きさを決めてる\n",
    "plt.figure(figsize=(8*len(k_list), 12))\n",
    "\n",
    "i = 1 # subplot用\n",
    "for weights in weights_list:\n",
    "    for k in k_list:\n",
    "        #ここ重要\n",
    "        clf = neighbors.KNeighborsClassifier(k, weights=weights)\n",
    "        #kNN法で教師データを学習させる\n",
    "        clf.fit(iris_X_train, iris_y_train)\n",
    "        # Xの1次元目の最小と最大を取得\n",
    "        x1_min, x1_max = iris_X[:, 0].min() - 1, iris_X[:, 0].max() + 1\n",
    "        # Xの2次元目の最小と最大を取得\n",
    "        x2_min, x2_max = iris_X[:, 1].min() - 1, iris_X[:, 1].max() + 1\n",
    "        # x1_min から x1_max まで、x2_min から x2_max までの h 刻みの等間隔な格子状配列を生成\n",
    "        xx1, xx2 = np.meshgrid(np.arange(x1_min, x1_max, h), np.arange(x2_min, x2_max, h))\n",
    "        # メッシュ状の各点に対して予測 / .ravel()で一次元配列に変換し、np.c_[]でxx1, xx2をxx2ごとに合体\n",
    "        Z = clf.predict(np.c_[xx1.ravel(), xx2.ravel()])\n",
    "        # 配列の形状を変更する\n",
    "        Z = Z.reshape(xx1.shape) \n",
    "        \n",
    "        ##プロット\n",
    "        \n",
    "        # 2行 × k_list列のグラフのi番目のグラフにプロットさせるよ\n",
    "        plt.subplot(2,len(k_list),i)\n",
    "        # 学習結果をプロット\n",
    "        plt.pcolormesh(xx1, xx2, Z, cmap=cmap_light) \n",
    "        # 教師データをプロット\n",
    "        plt.scatter(iris_X_train[:, 0], iris_X_train[:, 1], c=iris_y_train, cmap=cmap_bold) \n",
    "        # テストデータをプロット\n",
    "        #plt.scatter(iris_X_test[:, 0], iris_X_test[:, 1], c=iris_y_test, cmap=cmap_light) \n",
    "        \n",
    "        #軸の指定\n",
    "        plt.xlim(xx1.min(), xx1.max())\n",
    "        plt.ylim(xx2.min(), xx2.max())\n",
    "        #タイトルの指定\n",
    "        plt.title(\"k = %i, weights = '%s'\" % (k, weights), fontsize=30)\n",
    "        i = i + 1\n",
    "plt.show"
   ]
  }
 ],
 "metadata": {
  "kernelspec": {
   "display_name": "Python 3",
   "language": "python",
   "name": "python3"
  },
  "language_info": {
   "codemirror_mode": {
    "name": "ipython",
    "version": 3
   },
   "file_extension": ".py",
   "mimetype": "text/x-python",
   "name": "python",
   "nbconvert_exporter": "python",
   "pygments_lexer": "ipython3",
   "version": "3.6.8"
  }
 },
 "nbformat": 4,
 "nbformat_minor": 2
}
