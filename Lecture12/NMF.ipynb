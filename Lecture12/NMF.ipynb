{
 "cells": [
  {
   "cell_type": "code",
   "execution_count": null,
   "metadata": {},
   "outputs": [],
   "source": [
    "import tensorflow as tf\n",
    "import numpy as np\n",
    "import matplotlib.pyplot as plt\n",
    "from sklearn.decomposition import NMF\n",
    "%matplotlib inline"
   ]
  },
  {
   "cell_type": "code",
   "execution_count": null,
   "metadata": {},
   "outputs": [],
   "source": [
    "from sklearn import datasets\n",
    "lfw_people = datasets.fetch_lfw_people(min_faces_per_person=100, resize=0.4)"
   ]
  },
  {
   "cell_type": "code",
   "execution_count": null,
   "metadata": {},
   "outputs": [],
   "source": [
    "n_samples, h, w = lfw_people.images.shape\n",
    "n_samples"
   ]
  },
  {
   "cell_type": "code",
   "execution_count": null,
   "metadata": {},
   "outputs": [],
   "source": [
    "# 画像の表示\n",
    "fig = plt.figure(figsize=(120, 200))\n",
    "for i in range(0, 100):\n",
    "    ax = fig.add_subplot(10, 10, i+1)\n",
    "    ax.imshow(lfw_people.images[i])\n",
    "\n",
    "plt.show()"
   ]
  },
  {
   "cell_type": "code",
   "execution_count": null,
   "metadata": {},
   "outputs": [],
   "source": [
    "X_train = lfw_people.images.reshape(-1, h * w)  # 2次元配列を1次元に変換\n",
    "X_train = X_train.astype('float32')  # int型をfloat32型に変換\n",
    "X_train /= 255  # 値の範囲を0から1の間に変換"
   ]
  },
  {
   "cell_type": "code",
   "execution_count": null,
   "metadata": {},
   "outputs": [],
   "source": [
    "X_train[1]"
   ]
  },
  {
   "cell_type": "code",
   "execution_count": null,
   "metadata": {},
   "outputs": [],
   "source": [
    "n = 150\n",
    "model = NMF(n_components=n, init='random', random_state=0)\n",
    "P = model.fit_transform(X_train) # 学習\n",
    "Q = model.components_"
   ]
  },
  {
   "cell_type": "code",
   "execution_count": null,
   "metadata": {},
   "outputs": [],
   "source": [
    "print(np.round(model.components_, 1))"
   ]
  },
  {
   "cell_type": "code",
   "execution_count": null,
   "metadata": {},
   "outputs": [],
   "source": [
    "# 50x37の画像に変換\n",
    "Q_image = Q.reshape(n, 50, 37)\n",
    "\n",
    "# 各潜在変数を画像として表示\n",
    "fig = plt.figure(figsize=(120, 200))\n",
    "for i in range(0, n):\n",
    "    ax = fig.add_subplot(n/10+1, 10, i+1)\n",
    "    ax.imshow(Q_image[i])\n",
    "\n",
    "plt.show()"
   ]
  },
  {
   "cell_type": "code",
   "execution_count": null,
   "metadata": {},
   "outputs": [],
   "source": [
    "model.reconstruction_err_  # X と WH の乖離度"
   ]
  },
  {
   "cell_type": "code",
   "execution_count": null,
   "metadata": {},
   "outputs": [],
   "source": [
    "recon = np.dot(model.transform(X_train), model.components_)  # WH を計算"
   ]
  },
  {
   "cell_type": "code",
   "execution_count": null,
   "metadata": {},
   "outputs": [],
   "source": [
    "# X と WH を画像で比較\n",
    "i = 0\n",
    "fig = plt.figure(figsize=(37, 50))\n",
    "ax = fig.add_subplot(1, 2, 1)\n",
    "ax.imshow(lfw_people.images[i])\n",
    "ax = fig.add_subplot(1, 2, 2)\n",
    "ax.imshow(recon[i].reshape(h, w))\n",
    "plt.show()"
   ]
  },
  {
   "cell_type": "code",
   "execution_count": null,
   "metadata": {},
   "outputs": [],
   "source": []
  }
 ],
 "metadata": {
  "kernelspec": {
   "display_name": "Python 3",
   "language": "python",
   "name": "python3"
  },
  "language_info": {
   "codemirror_mode": {
    "name": "ipython",
    "version": 3
   },
   "file_extension": ".py",
   "mimetype": "text/x-python",
   "name": "python",
   "nbconvert_exporter": "python",
   "pygments_lexer": "ipython3",
   "version": "3.6.8"
  }
 },
 "nbformat": 4,
 "nbformat_minor": 2
}
