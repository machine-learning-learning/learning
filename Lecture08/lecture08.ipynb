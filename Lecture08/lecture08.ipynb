{
 "cells": [
  {
   "cell_type": "code",
   "execution_count": 1,
   "metadata": {},
   "outputs": [
    {
     "name": "stdout",
     "output_type": "stream",
     "text": [
      "<class 'method'>\n"
     ]
    }
   ],
   "source": [
    "import numpy as np\n",
    "import timeit\n",
    "import math, random\n",
    "from sklearn import datasets, model_selection, metrics\n",
    "from sklearn.neural_network import MLPClassifier\n",
    "import matplotlib\n",
    "import matplotlib.pyplot as plt\n",
    "np.set_printoptions(formatter={'float': '{:.2f}'.format})\n",
    "\n",
    "raw_digits = [\n",
    "          \"\"\"11111\n",
    "             1...1\n",
    "             1...1\n",
    "             1...1\n",
    "             11111\"\"\",\n",
    "\n",
    "          \"\"\"..1..\n",
    "             ..1..\n",
    "             ..1..\n",
    "             ..1..\n",
    "             ..1..\"\"\",\n",
    "\n",
    "          \"\"\"11111\n",
    "             ....1\n",
    "             11111\n",
    "             1....\n",
    "             11111\"\"\",\n",
    "\n",
    "          \"\"\"11111\n",
    "             ....1\n",
    "             11111\n",
    "             ....1\n",
    "             11111\"\"\",\n",
    "\n",
    "          \"\"\"1...1\n",
    "             1...1\n",
    "             11111\n",
    "             ....1\n",
    "             ....1\"\"\",\n",
    "\n",
    "          \"\"\"11111\n",
    "             1....\n",
    "             11111\n",
    "             ....1\n",
    "             11111\"\"\",\n",
    "\n",
    "          \"\"\"11111\n",
    "             1....\n",
    "             11111\n",
    "             1...1\n",
    "             11111\"\"\",\n",
    "\n",
    "          \"\"\"11111\n",
    "             ....1\n",
    "             ....1\n",
    "             ....1\n",
    "             ....1\"\"\",\n",
    "\n",
    "          \"\"\"11111\n",
    "             1...1\n",
    "             11111\n",
    "             1...1\n",
    "             11111\"\"\",\n",
    "\n",
    "          \"\"\"11111\n",
    "             1...1\n",
    "             11111\n",
    "             ....1\n",
    "             11111\"\"\"]\n",
    "\n",
    "def make_digit(raw_digit):\n",
    "    return [1 if c == '1' else 0\n",
    "        for row in raw_digit.split(\"\\n\")\n",
    "        for c in row.strip()]\n",
    "\n",
    "inputs = list(map(make_digit, raw_digits))\n",
    "\n",
    "print(type(input))\n",
    "\n",
    "targets = [[1 if i == j else 0 for i in range(10)]\n",
    "    for j in range(10)]\n"
   ]
  },
  {
   "cell_type": "code",
   "execution_count": 8,
   "metadata": {},
   "outputs": [],
   "source": [
    "clf = MLPClassifier(max_iter=500, hidden_layer_sizes=(400,80))"
   ]
  },
  {
   "cell_type": "code",
   "execution_count": 14,
   "metadata": {},
   "outputs": [],
   "source": [
    "num_list=[]\n",
    "for num in raw_digits:\n",
    "    num_list.append(make_digit(num))\n",
    "\n",
    "\n",
    "train_x =[]\n",
    "train_y =[]\n",
    "\n",
    "for __ in range(1000):\n",
    "    cnt=0\n",
    "    for num in num_list:\n",
    "        insert_num=[]\n",
    "        for cell in num:\n",
    "            insert_num.append(cell if random.random()*100>=15.0 else 1-cell) #15%の確率でドット損じ\n",
    "        train_x.append(insert_num)\n",
    "        train_y.append(cnt)\n",
    "        cnt+=1\n"
   ]
  },
  {
   "cell_type": "code",
   "execution_count": 15,
   "metadata": {},
   "outputs": [
    {
     "data": {
      "text/plain": [
       "MLPClassifier(activation='relu', alpha=0.0001, batch_size='auto', beta_1=0.9,\n",
       "       beta_2=0.999, early_stopping=False, epsilon=1e-08,\n",
       "       hidden_layer_sizes=(400, 80), learning_rate='constant',\n",
       "       learning_rate_init=0.001, max_iter=500, momentum=0.9,\n",
       "       n_iter_no_change=10, nesterovs_momentum=True, power_t=0.5,\n",
       "       random_state=None, shuffle=True, solver='adam', tol=0.0001,\n",
       "       validation_fraction=0.1, verbose=False, warm_start=False)"
      ]
     },
     "execution_count": 15,
     "metadata": {},
     "output_type": "execute_result"
    }
   ],
   "source": [
    "clf.fit(train_x, train_y)"
   ]
  },
  {
   "cell_type": "code",
   "execution_count": 16,
   "metadata": {},
   "outputs": [
    {
     "name": "stdout",
     "output_type": "stream",
     "text": [
      "0 [array([0.99, 0.00, 0.00, 0.00, 0.00, 0.00, 0.00, 0.00, 0.01, 0.00])]\n",
      "1 [array([0.00, 1.00, 0.00, 0.00, 0.00, 0.00, 0.00, 0.00, 0.00, 0.00])]\n",
      "2 [array([0.00, 0.00, 0.95, 0.02, 0.00, 0.00, 0.00, 0.00, 0.02, 0.00])]\n",
      "3 [array([0.00, 0.00, 0.02, 0.89, 0.00, 0.01, 0.00, 0.00, 0.06, 0.02])]\n",
      "4 [array([0.00, 0.00, 0.00, 0.00, 1.00, 0.00, 0.00, 0.00, 0.00, 0.00])]\n",
      "5 [array([0.00, 0.00, 0.00, 0.01, 0.00, 0.77, 0.02, 0.00, 0.03, 0.17])]\n",
      "6 [array([0.00, 0.00, 0.00, 0.00, 0.00, 0.06, 0.83, 0.00, 0.10, 0.00])]\n",
      "7 [array([0.00, 0.00, 0.00, 0.00, 0.00, 0.00, 0.00, 1.00, 0.00, 0.00])]\n",
      "8 [array([0.01, 0.00, 0.07, 0.01, 0.00, 0.00, 0.25, 0.00, 0.62, 0.03])]\n",
      "9 [array([0.00, 0.00, 0.00, 0.13, 0.00, 0.20, 0.00, 0.00, 0.23, 0.43])]\n"
     ]
    },
    {
     "data": {
      "text/plain": [
       "Ellipsis"
      ]
     },
     "execution_count": 16,
     "metadata": {},
     "output_type": "execute_result"
    }
   ],
   "source": [
    "for i in range(10):\n",
    "    print(i,[np.round(p, decimals=2) for p in clf._predict((num_list[i],))])\n",
    "\n",
    "#正解データを投げた時の予想確率\n",
    "\n",
    "#0の正解を投げた時の[0である予想確率,1である予想確率, ... ]\n",
    "#1の正解を投げた時の[0である予想確率,1である予想確率, ... ]\n",
    "..."
   ]
  },
  {
   "cell_type": "code",
   "execution_count": 17,
   "metadata": {},
   "outputs": [
    {
     "name": "stdout",
     "output_type": "stream",
     "text": [
      "predict_label = [5]\n",
      "label=0 , prob=0.0\n",
      "label=1 , prob=0.0\n",
      "label=2 , prob=0.0\n",
      "label=3 , prob=0.0\n",
      "label=4 , prob=0.0\n",
      "label=5 , prob=0.98\n",
      "label=6 , prob=0.0\n",
      "label=7 , prob=0.0\n",
      "label=8 , prob=0.02\n",
      "label=9 , prob=0.0\n"
     ]
    }
   ],
   "source": [
    "###あそんでみてね\n",
    "\n",
    "mynum=\"\"\".111.\n",
    "         1....\n",
    "         .111.\n",
    "         1..11\n",
    "         .111.\"\"\"\n",
    "\n",
    "####\n",
    "\n",
    "'''\n",
    "いじって壊れた時用保険\n",
    "\n",
    "mynum=\"\"\".111.\n",
    "         1....\n",
    "         .111.\n",
    "         1..11\n",
    "         .111.\"\"\"\n",
    "'''\n",
    "\n",
    "\n",
    "\n",
    "test_x =[]\n",
    "test_y =[]\n",
    "test_x.append(make_digit(mynum))\n",
    "print('predict_label = {}'.format(clf.predict(test_x)))\n",
    "\n",
    "cnt=0\n",
    "for i,p in enumerate(clf._predict((test_x))[0]):\n",
    "    print('label={} , prob={}'.format(i,np.round(p, decimals=2)))\n",
    "          "
   ]
  },
  {
   "cell_type": "code",
   "execution_count": null,
   "metadata": {},
   "outputs": [],
   "source": []
  },
  {
   "cell_type": "code",
   "execution_count": null,
   "metadata": {},
   "outputs": [],
   "source": []
  }
 ],
 "metadata": {
  "kernelspec": {
   "display_name": "Python 3",
   "language": "python",
   "name": "python3"
  },
  "language_info": {
   "codemirror_mode": {
    "name": "ipython",
    "version": 3
   },
   "file_extension": ".py",
   "mimetype": "text/x-python",
   "name": "python",
   "nbconvert_exporter": "python",
   "pygments_lexer": "ipython3",
   "version": "3.7.1"
  }
 },
 "nbformat": 4,
 "nbformat_minor": 2
}
