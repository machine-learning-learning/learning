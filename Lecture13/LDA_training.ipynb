{
 "cells": [
  {
   "cell_type": "code",
   "execution_count": null,
   "metadata": {},
   "outputs": [],
   "source": [
    "import pickle\n",
    "import gensim\n",
    "from pprint import pprint"
   ]
  },
  {
   "cell_type": "code",
   "execution_count": null,
   "metadata": {},
   "outputs": [],
   "source": [
    "#livedoor ニュースの記事3400件を形態素解析したリスト\n",
    "f = open('word_lists_for_gensim', 'rb')\n",
    "word_lists = pickle.load(f)\n",
    "f.close()"
   ]
  },
  {
   "cell_type": "code",
   "execution_count": null,
   "metadata": {},
   "outputs": [],
   "source": [
    "#最初の3記事のみ表示\n",
    "pprint(word_lists[:3], compact = True)"
   ]
  },
  {
   "cell_type": "code",
   "execution_count": null,
   "metadata": {},
   "outputs": [],
   "source": [
    "#単語辞書を定義する\n",
    "dictionary = gensim.corpora.Dictionary(word_lists)\n",
    "#データをフィルターにかける、単語の出現が1文書以下のとき、単語が60%以上の文書に登場したときは除外\n",
    "dictionary.filter_extremes(no_below = 1, no_above = 0.6)\n",
    "\n",
    "for key in dictionary.keys()[30:60]:\n",
    "    print(key, dictionary[key])\n",
    "print()"
   ]
  },
  {
   "cell_type": "code",
   "execution_count": null,
   "metadata": {},
   "outputs": [],
   "source": [
    "#文書をベクトル化する\n",
    "corpus = [dictionary.doc2bow(word_list) for word_list in word_lists]\n",
    "\n",
    "for l in corpus[:3]:\n",
    "    for t in l:\n",
    "        print(dictionary[t[0]], t[1])\n",
    "    print()"
   ]
  },
  {
   "cell_type": "code",
   "execution_count": null,
   "metadata": {},
   "outputs": [],
   "source": [
    "#LDAのモデルに投入する\n",
    "lda = gensim.models.LdaModel(corpus = corpus, id2word = dictionary, num_topics = 10)"
   ]
  },
  {
   "cell_type": "code",
   "execution_count": null,
   "metadata": {},
   "outputs": [],
   "source": [
    "#トピック分類した結果を表示\n",
    "for topic in lda.show_topics():\n",
    "    print(topic)"
   ]
  }
 ],
 "metadata": {
  "kernelspec": {
   "display_name": "Python 3",
   "language": "python",
   "name": "python3"
  },
  "language_info": {
   "codemirror_mode": {
    "name": "ipython",
    "version": 3
   },
   "file_extension": ".py",
   "mimetype": "text/x-python",
   "name": "python",
   "nbconvert_exporter": "python",
   "pygments_lexer": "ipython3",
   "version": "3.6.8"
  }
 },
 "nbformat": 4,
 "nbformat_minor": 2
}
