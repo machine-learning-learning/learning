{
 "cells": [
  {
   "cell_type": "code",
   "execution_count": 1,
   "metadata": {},
   "outputs": [
    {
     "data": {
      "text/plain": [
       "array([1])"
      ]
     },
     "execution_count": 1,
     "metadata": {},
     "output_type": "execute_result"
    }
   ],
   "source": [
    "from sklearn.naive_bayes import BernoulliNB\n",
    "#from sklearn.naive_bayes import MultinomialNB\n",
    "\n",
    "# データ生成\n",
    "X_train = [\n",
    "[1, 1, 0, 0, 0, 1, 0, 0, 0, 0, 0],\n",
    "[0, 1, 1, 1, 0, 0, 0, 0, 0, 0, 0],\n",
    "[1, 0, 0, 0, 1, 1, 0, 0, 0, 0, 0],\n",
    "[0, 0, 0, 0, 0, 0, 1, 1, 0, 0, 0],\n",
    "[0, 0, 0, 0, 0, 0, 0, 1, 1, 1, 0],\n",
    "[0, 0, 0, 0, 0, 1, 1, 1, 0, 0, 1]]\n",
    "y_train = [1, 1, 1, 0, 0, 0]\n",
    "model = BernoulliNB()\n",
    "model.fit(X_train, y_train) # 学習\n",
    "model.predict([[0, 1, 0, 1, 0, 1, 0, 0, 0, 0, 0]]) # 評価"
   ]
  },
  {
   "cell_type": "code",
   "execution_count": 2,
   "metadata": {},
   "outputs": [],
   "source": [
    "# 必要なライブラリのインポート\n",
    "from sklearn.naive_bayes import GaussianNB\n",
    "import numpy as np\n",
    "import matplotlib.pyplot as plt\n",
    "%matplotlib inline\n"
   ]
  },
  {
   "cell_type": "code",
   "execution_count": 3,
   "metadata": {},
   "outputs": [],
   "source": [
    "#トレーニングデータセットの用意\n",
    "x = np.array([[-2,6], [0,6], [0,7], [-2,5], [-3,3], [-1,0], [-2,0], [-3,1], [-1,4], [0,3], [0,1], [-1,7], [-3,5], [-4,3], [-2,0], [-3,7], [1,5], [1,2], [-2,3], [2,3], [-4,0], [-1,3], [1,1], [-2,2], [2,7], [-4,1]])\n",
    "y = np.array([2, 1, 2, 1, 1, 2, 2, 2, 1, 1, 2, 2, 2, 2, 2, 1, 1, 1, 2, 2, 1, 1, 2, 1, 2, 2])\n"
   ]
  },
  {
   "cell_type": "code",
   "execution_count": 4,
   "metadata": {},
   "outputs": [
    {
     "data": {
      "image/png": "[encoded data removed]",
      "text/plain": [
       "<Figure size 432x288 with 1 Axes>"
      ]
     },
     "metadata": {
      "needs_background": "light"
     },
     "output_type": "display_data"
    }
   ],
   "source": [
    "# グラフ描画に向けてのデータの整形\n",
    "data = np.hstack((x, y.reshape(y.shape[0],1)))\n",
    "# print(data)\n",
    " \n",
    "data1 = data[np.where(data[:,2]==1)]\n",
    "data2 = data[np.where(data[:,2]==2)]\n",
    "# print(data1)\n",
    "# print(data2)\n",
    " \n",
    "# matplotlibを用いたデータの可視化（グラフ化）\n",
    "plt.close(\"all\")\n",
    "plt.scatter(data1[:,0], data1[:,1], c=\"tab:blue\")\n",
    "plt.scatter(data2[:,0], data2[:,1], c=\"tab:red\")\n",
    "plt.show()"
   ]
  },
  {
   "cell_type": "code",
   "execution_count": 5,
   "metadata": {},
   "outputs": [
    {
     "name": "stdout",
     "output_type": "stream",
     "text": [
      "Model fitted.\n"
     ]
    }
   ],
   "source": [
    "# モデルの学習\n",
    "model = GaussianNB()\n",
    "model.fit(x, y)\n",
    "print(\"Model fitted.\")"
   ]
  },
  {
   "cell_type": "code",
   "execution_count": 6,
   "metadata": {},
   "outputs": [
    {
     "data": {
      "image/png": "[encoded data removed]",
      "text/plain": [
       "<Figure size 432x288 with 1 Axes>"
      ]
     },
     "metadata": {
      "needs_background": "light"
     },
     "output_type": "display_data"
    }
   ],
   "source": [
    "# テストデータの用意\n",
    "test_data = np.array([[0,4.1], [1.1,0.1]])\n",
    " \n",
    "# matplotlibを用いたデータの可視化（グラフ化）\n",
    "plt.close(\"all\")\n",
    "plt.scatter(data1[:,0], data1[:,1], c=\"tab:blue\")\n",
    "plt.scatter(data2[:,0], data2[:,1], c=\"tab:red\")\n",
    "plt.scatter(test_data[:,0], test_data[:,1], c=\"k\" )\n",
    "plt.show()"
   ]
  },
  {
   "cell_type": "code",
   "execution_count": 7,
   "metadata": {},
   "outputs": [
    {
     "name": "stdout",
     "output_type": "stream",
     "text": [
      "Label of test data [0.  4.1] : 1\n",
      "Label of test data [1.1 0.1] : 2\n"
     ]
    }
   ],
   "source": [
    "# テストデータの分類\n",
    "test_label = model.predict(test_data)\n",
    "print(\"Label of test data\", test_data[0], \":\", test_label[0])\n",
    "print(\"Label of test data\", test_data[1], \":\", test_label[1])"
   ]
  },
  {
   "cell_type": "code",
   "execution_count": 8,
   "metadata": {},
   "outputs": [
    {
     "data": {
      "image/png": "[encoded data removed]",
      "text/plain": [
       "<Figure size 432x288 with 1 Axes>"
      ]
     },
     "metadata": {
      "needs_background": "light"
     },
     "output_type": "display_data"
    }
   ],
   "source": [
    "plt.close(\"all\")\n",
    "\n",
    "xx = np.linspace(-4, 2, 50)\n",
    "yy = np.linspace(0, 7, 50)\n",
    "for x in xx :\n",
    "    for y in yy :\n",
    "        data =np.array([[x,y]])\n",
    "        label = model.predict(data)\n",
    "        \n",
    "        plt.scatter(x,y, c=(\"tab:blue\" if label==1 else \"tab:red\"))\n",
    "\n",
    "\n",
    "plt.show()"
   ]
  },
  {
   "cell_type": "code",
   "execution_count": null,
   "metadata": {},
   "outputs": [],
   "source": []
  }
 ],
 "metadata": {
  "kernelspec": {
   "display_name": "Python 3",
   "language": "python",
   "name": "python3"
  },
  "language_info": {
   "codemirror_mode": {
    "name": "ipython",
    "version": 3
   },
   "file_extension": ".py",
   "mimetype": "text/x-python",
   "name": "python",
   "nbconvert_exporter": "python",
   "pygments_lexer": "ipython3",
   "version": "3.7.1"
  }
 },
 "nbformat": 4,
 "nbformat_minor": 2
}
