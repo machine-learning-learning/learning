{
 "cells": [
  {
   "cell_type": "markdown",
   "metadata": {},
   "source": [
    "# 演習 (タイタニック号の乗客データ)"
   ]
  },
  {
   "cell_type": "code",
   "execution_count": null,
   "metadata": {},
   "outputs": [],
   "source": [
    "import numpy as np\n",
    "import pandas as pd\n",
    "import matplotlib.pyplot as plt\n",
    "from sklearn.linear_model import LogisticRegression\n",
    "%matplotlib inline"
   ]
  },
  {
   "cell_type": "code",
   "execution_count": null,
   "metadata": {},
   "outputs": [],
   "source": [
    "train_data = pd.read_csv('train.csv')\n",
    "test_data = pd.read_csv('test.csv')\n",
    "train_data.head()"
   ]
  },
  {
   "cell_type": "code",
   "execution_count": null,
   "metadata": {},
   "outputs": [],
   "source": [
    "train_data_sub1 = train_data.get([\"Survived\", \"Pclass\", \"Sex\", \"Age\"])\n",
    "train_data_sub2 = train_data_sub1.dropna()\n",
    "train_data_sub2.describe()"
   ]
  },
  {
   "cell_type": "code",
   "execution_count": null,
   "metadata": {},
   "outputs": [],
   "source": [
    "dummy = pd.get_dummies(train_data_sub2[['Sex']])\n",
    "dummy_female = dummy[['Sex_female']]\n",
    "train_data = pd.concat([train_data_sub2.drop(['Sex'], axis=1), dummy_female], axis=1)\n",
    "train_data.head()"
   ]
  },
  {
   "cell_type": "code",
   "execution_count": null,
   "metadata": {},
   "outputs": [],
   "source": [
    "test_data_sub = test_data.get([\"Survived\", \"Pclass\", \"Sex\", \"Age\"]).dropna()\n",
    "test_data = pd.concat([test_data_sub.drop(['Sex'], axis=1), pd.get_dummies(test_data_sub[['Sex']])[['Sex_female']]], axis=1)\n",
    "test_data.head()"
   ]
  },
  {
   "cell_type": "code",
   "execution_count": null,
   "metadata": {
    "scrolled": true
   },
   "outputs": [],
   "source": [
    "X_train = train_data.drop([\"Survived\"], axis=1) # 特徴量の列を取り出す\n",
    "y_train = train_data.Survived # 正解ラベルの列を取り出す\n",
    "\n",
    "log_reg = LogisticRegression(random_state=0, penalty='l2', C=1, solver='liblinear')\n",
    "log_reg.fit(X_train, y_train) # 特徴量と正解データで学習"
   ]
  },
  {
   "cell_type": "code",
   "execution_count": null,
   "metadata": {},
   "outputs": [],
   "source": [
    "X_test = test_data.drop([\"Survived\"], axis=1)\n",
    "y_test = test_data.Survived\n",
    "\n",
    "print(\"training score : \", log_reg.score(X_test, y_test)) # テストデータで正解率を計算"
   ]
  },
  {
   "cell_type": "code",
   "execution_count": null,
   "metadata": {},
   "outputs": [],
   "source": [
    "import seaborn as sns\n",
    "import matplotlib.cm as cm\n",
    "from mpl_toolkits.mplot3d import Axes3D\n",
    "fig = plt.figure()\n",
    "ax = Axes3D(fig)\n",
    "ax.set_xlabel(\"Pclass\")\n",
    "ax.set_ylabel(\"Age\")\n",
    "ax.set_zlabel(\"Sex\")\n",
    "\n",
    "y_pred = log_reg.predict(X_test)\n",
    "ax.scatter(X_test.Pclass, X_test.Age, X_test.Sex_female, c=y_pred, cmap='bwr', marker=\"o\", linestyle='None')\n",
    "# 予測値のプロット(生存: 赤, 死亡: 青)"
   ]
  },
  {
   "cell_type": "code",
   "execution_count": null,
   "metadata": {},
   "outputs": [],
   "source": [
    "fig = plt.figure()\n",
    "ax = Axes3D(fig)\n",
    "ax.set_xlabel(\"Pclass\")\n",
    "ax.set_ylabel(\"Age\")\n",
    "ax.set_zlabel(\"Sex\")\n",
    "ax.scatter(X_test.Pclass, X_test.Age, X_test.Sex_female, c=y_test, cmap='bwr', marker=\"o\", linestyle='None')\n",
    "# 正解のプロット(生存: 赤, 死亡: 青)"
   ]
  },
  {
   "cell_type": "code",
   "execution_count": null,
   "metadata": {},
   "outputs": [],
   "source": []
  }
 ],
 "metadata": {
  "kernelspec": {
   "display_name": "Python 3",
   "language": "python",
   "name": "python3"
  },
  "language_info": {
   "codemirror_mode": {
    "name": "ipython",
    "version": 3
   },
   "file_extension": ".py",
   "mimetype": "text/x-python",
   "name": "python",
   "nbconvert_exporter": "python",
   "pygments_lexer": "ipython3",
   "version": "3.7.3"
  }
 },
 "nbformat": 4,
 "nbformat_minor": 2
}
